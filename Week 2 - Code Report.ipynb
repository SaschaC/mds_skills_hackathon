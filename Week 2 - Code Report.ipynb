{
 "cells": [
  {
   "cell_type": "markdown",
   "id": "d4db93a7",
   "metadata": {},
   "source": [
    "# Overview\n",
    "\n",
    "I exeprimented with context free feature grammar in order to parse a sentence into an xXpath query. The elements of \n",
    "the Xpath query are set by the terminal nodes/words as well as by non-terminal nodes/phrases. The combination of the elements also happens at higher nodes. "
   ]
  },
  {
   "cell_type": "markdown",
   "id": "19c05b65",
   "metadata": {},
   "source": [
    "# Simple Grammar\n",
    "\n",
    "I defined a simple grammar and draw the parse trees."
   ]
  },
  {
   "cell_type": "code",
   "execution_count": 2,
   "id": "8c69676d",
   "metadata": {},
   "outputs": [],
   "source": [
    "from nltk import grammar, parse\n",
    "import nltk,urllib.request, gzip, io\n",
    "from nltk import grammar, parse\n",
    "from nltk.tokenize import word_tokenize\n",
    "import re\n",
    "from lxml import etree"
   ]
  },
  {
   "cell_type": "code",
   "execution_count": 3,
   "id": "adb92251",
   "metadata": {},
   "outputs": [],
   "source": [
    "import re\n",
    "g = \"\"\"\n",
    "% start S\n",
    "S[SEM=(?np + '[' + ?vp+']')] -> NP[SEM=?np] VP[SEM=?vp]\n",
    "VP[SEM=(?v + ?p)] -> TV[SEM=?v] NP[SEM=?p] | CMPLX-V[SEM=?v] PP[SEM=?p] | TV[SEM=?v] CONJP[SEM=?p]\n",
    "CONJP[SEM=(?spec + ?compl)] -> NP[SEM=?spec] CONJP[SEM=?compl] | CONJ[SEM=?spec] CONJP[SEM=?compl] | CONJ[SEM=?spec] NP[SEM=?compl] | VP[SEM=?spec] CONJP[SEM=?compl] | CONJ[SEM=?spec] VP[SEM=?compl]\n",
    "NP[SEM=(?det + ?n)] -> Art[SEM=?det] NBAR[SEM=?n] | Int[SEM=?det] N[SEM=?n]\n",
    "NBAR[SEM=(?np + ?num)] -> N[SEM=?np] PP[SEM=?num] | N[SEM=?np] AP[SEM=?num]\n",
    "PP[SEM=(?p + ?num)] -> P[SEM=?p] NUM[SEM=?num] | P[SEM=?p] ADVP[SEM=?num]\n",
    "ADVP[SEM=(?adv + ?num)] -> CMPLX-ADV[SEM=?adv] NUM[SEM=?num] \n",
    "AP[SEM=(?a + ?num)] -> CMPLX-A[SEM=?a] NUM[SEM=?num]\n",
    "CMPLX-A[SEM=?a] -> A[SEM=?a] CONJ\n",
    "CMPLX-ADV[SEM=?adv] -> ADV[SEM=?adv] CONJ | P ADV[SEM=?adv]\n",
    "CMPLX-V[SEM=?part] -> AUX PART[SEM=?part]\n",
    "\n",
    "PART[SEM='discoveryyear'] -> 'discovered'\n",
    "Int[SEM='.//'] -> 'which' | 'what'\n",
    "AUX -> 'were'\n",
    "TV[SEM=''] -> 'have' | 'possess'\n",
    "Art[SEM=''] -> 'a'\n",
    "N[SEM='mass'] -> 'mass'\n",
    "N[SEM='radius'] -> 'radius'\n",
    "N[SEM='planet'] -> 'planets'\n",
    "P[SEM=''] -> 'of' |'at'\n",
    "P[SEM='<'] -> 'before'\n",
    "P[SEM='>'] -> 'after'\n",
    "CONJ[SEM=''] -> 'than'\n",
    "CONJ[SEM=' and '] -> 'and'\n",
    "A[SEM='>'] -> 'bigger' | 'larger' | 'greater' \n",
    "A[SEM='<'] -> 'smaller'\n",
    "ADV[SEM='<'] -> 'less' | 'most'\n",
    "ADV[SEM='>'] -> 'more' | 'least'\n",
    "NUM[SEM=\"=#NUM#\"] -> '#NUM#'\n",
    "\"\"\"\n",
    "sents = ['what planets have a mass of 19.4','which planets have a mass of 19.4',\n",
    "'what planets have a radius of 0.188','which planets have a mass of at least 19.4',\n",
    "'which planets have a mass of at most 0.001','which planets have a mass smaller than 0.001',\n",
    "'which planets have a mass greater than 19.4','what planets were discovered before 2001',\n",
    "'what planets were discovered after 2021','which planets have a mass smaller than 0.001',\n",
    "'which planets have a mass smaller than 0.001 and a radius of less than 0.188',\n",
    "'what planets have a mass larger than 0.001 and a radius of at least 0.188 and a mass of at least 0.188',\n",
    "'what planets have a mass larger than 0.001 and were discovered before 2020']\n",
    "sents = [re.sub(r'\\d+\\.*\\d*','#NUM#',s).split() for s in sents]\n",
    "\n",
    "gram = grammar.FeatureGrammar.fromstring(g)\n",
    "parser = parse.FeatureEarleyChartParser(gram,trace=0)\n",
    "\n",
    "trees = [list(parser.parse(s))[0] for _,s in enumerate(sents)]\n",
    "\n",
    "from nltk.draw.tree import draw_trees\n",
    "draw_trees(trees[-1])"
   ]
  },
  {
   "cell_type": "code",
   "execution_count": null,
   "id": "c5d66f44",
   "metadata": {},
   "outputs": [],
   "source": []
  }
 ],
 "metadata": {
  "kernelspec": {
   "display_name": "Python 3 (ipykernel)",
   "language": "python",
   "name": "python3"
  },
  "language_info": {
   "codemirror_mode": {
    "name": "ipython",
    "version": 3
   },
   "file_extension": ".py",
   "mimetype": "text/x-python",
   "name": "python",
   "nbconvert_exporter": "python",
   "pygments_lexer": "ipython3",
   "version": "3.7.11"
  }
 },
 "nbformat": 4,
 "nbformat_minor": 5
}
